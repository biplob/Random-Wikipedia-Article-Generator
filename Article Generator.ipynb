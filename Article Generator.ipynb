{
 "cells": [
  {
   "cell_type": "code",
   "execution_count": 3,
   "metadata": {},
   "outputs": [
    {
     "name": "stdout",
     "output_type": "stream",
     "text": [
      "Requirement already satisfied: beautifulsoup4 in c:\\users\\user\\anaconda3\\lib\\site-packages (4.7.1)\n",
      "Requirement already satisfied: soupsieve>=1.2 in c:\\users\\user\\anaconda3\\lib\\site-packages (from beautifulsoup4) (1.8)\n",
      "Note: you may need to restart the kernel to use updated packages.\n"
     ]
    }
   ],
   "source": [
    "# Install BeautifulSoup libary\n",
    "pip install beautifulsoup4"
   ]
  },
  {
   "cell_type": "code",
   "execution_count": 5,
   "metadata": {},
   "outputs": [
    {
     "name": "stdout",
     "output_type": "stream",
     "text": [
      "Requirement already satisfied: requests in c:\\users\\user\\anaconda3\\lib\\site-packages (2.22.0)\n",
      "Requirement already satisfied: idna<2.9,>=2.5 in c:\\users\\user\\anaconda3\\lib\\site-packages (from requests) (2.8)\n",
      "Requirement already satisfied: chardet<3.1.0,>=3.0.2 in c:\\users\\user\\anaconda3\\lib\\site-packages (from requests) (3.0.4)\n",
      "Requirement already satisfied: certifi>=2017.4.17 in c:\\users\\user\\anaconda3\\lib\\site-packages (from requests) (2021.5.30)\n",
      "Requirement already satisfied: urllib3!=1.25.0,!=1.25.1,<1.26,>=1.21.1 in c:\\users\\user\\anaconda3\\lib\\site-packages (from requests) (1.24.2)\n",
      "Note: you may need to restart the kernel to use updated packages.\n"
     ]
    }
   ],
   "source": [
    "# Install requests libary\n",
    "pip install requests"
   ]
  },
  {
   "cell_type": "code",
   "execution_count": null,
   "metadata": {},
   "outputs": [
    {
     "name": "stdout",
     "output_type": "stream",
     "text": [
      "Wikipedia:News articles \n",
      "Do you want to view it? (Y/N)\n",
      "N\n",
      "Try again!\n",
      "Wikipedia:News articles \n",
      "Do you want to view it? (Y/N)\n"
     ]
    }
   ],
   "source": [
    "# Import requsts, buautifulsoup, and webbrowser libary\n",
    "import requests\n",
    "from bs4 import BeautifulSoup\n",
    "import webbrowser\n",
    "while True:\n",
    "    url = requests.get(\"https://en.wikipedia.org/wiki/Wikipedia:News_articles\")\n",
    "    soup = BeautifulSoup(url.content, \"html.parser\")\n",
    "    title = soup.find(class_=\"firstHeading\").text\n",
    "    print(f\"{title} \\nDo you want to view it? (Y/N)\")\n",
    "    ans = input(\"\").lower()\n",
    "    if ans == \"y\":\n",
    "        url = \"https://en.wikipedia.org/wiki/%s\" % title\n",
    "        webbrowser.open(url)\n",
    "        break\n",
    "    elif ans == 'n':\n",
    "        print(\"Try again!\")\n",
    "        continue\n",
    "    else:\n",
    "        print(\"Wrong Choice!\")\n",
    "        break"
   ]
  },
  {
   "cell_type": "code",
   "execution_count": null,
   "metadata": {},
   "outputs": [],
   "source": []
  }
 ],
 "metadata": {
  "kernelspec": {
   "display_name": "Python 3",
   "language": "python",
   "name": "python3"
  },
  "language_info": {
   "codemirror_mode": {
    "name": "ipython",
    "version": 3
   },
   "file_extension": ".py",
   "mimetype": "text/x-python",
   "name": "python",
   "nbconvert_exporter": "python",
   "pygments_lexer": "ipython3",
   "version": "3.7.3"
  }
 },
 "nbformat": 4,
 "nbformat_minor": 2
}
